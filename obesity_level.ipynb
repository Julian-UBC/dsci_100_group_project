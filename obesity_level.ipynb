{
 "cells": [
  {
   "cell_type": "markdown",
   "metadata": {},
   "source": [
    "# Obesity Level Classification Using Physical Condition and Eating Habits"
   ]
  },
  {
   "cell_type": "markdown",
   "metadata": {},
   "source": [
    "Setup"
   ]
  },
  {
   "cell_type": "code",
   "execution_count": 13,
   "metadata": {},
   "outputs": [],
   "source": [
    "library(tidyverse)\n",
    "options(repr.matrix.max.rows = 6)"
   ]
  },
  {
   "cell_type": "code",
   "execution_count": 14,
   "metadata": {},
   "outputs": [
    {
     "name": "stderr",
     "output_type": "stream",
     "text": [
      "Parsed with column specification:\n",
      "cols(\n",
      "  Gender = \u001b[31mcol_character()\u001b[39m,\n",
      "  Age = \u001b[32mcol_double()\u001b[39m,\n",
      "  Height = \u001b[32mcol_double()\u001b[39m,\n",
      "  Weight = \u001b[32mcol_double()\u001b[39m,\n",
      "  family_history_with_overweight = \u001b[31mcol_character()\u001b[39m,\n",
      "  FAVC = \u001b[31mcol_character()\u001b[39m,\n",
      "  FCVC = \u001b[32mcol_double()\u001b[39m,\n",
      "  NCP = \u001b[32mcol_double()\u001b[39m,\n",
      "  CAEC = \u001b[31mcol_character()\u001b[39m,\n",
      "  SMOKE = \u001b[31mcol_character()\u001b[39m,\n",
      "  CH2O = \u001b[32mcol_double()\u001b[39m,\n",
      "  SCC = \u001b[31mcol_character()\u001b[39m,\n",
      "  FAF = \u001b[32mcol_double()\u001b[39m,\n",
      "  TUE = \u001b[32mcol_double()\u001b[39m,\n",
      "  CALC = \u001b[31mcol_character()\u001b[39m,\n",
      "  MTRANS = \u001b[31mcol_character()\u001b[39m,\n",
      "  NObeyesdad = \u001b[31mcol_character()\u001b[39m\n",
      ")\n",
      "\n"
     ]
    },
    {
     "data": {
      "text/html": [
       "<table>\n",
       "<caption>A spec_tbl_df: 2111 × 17</caption>\n",
       "<thead>\n",
       "\t<tr><th scope=col>Gender</th><th scope=col>Age</th><th scope=col>Height</th><th scope=col>Weight</th><th scope=col>family_history_with_overweight</th><th scope=col>FAVC</th><th scope=col>FCVC</th><th scope=col>NCP</th><th scope=col>CAEC</th><th scope=col>SMOKE</th><th scope=col>CH2O</th><th scope=col>SCC</th><th scope=col>FAF</th><th scope=col>TUE</th><th scope=col>CALC</th><th scope=col>MTRANS</th><th scope=col>NObeyesdad</th></tr>\n",
       "\t<tr><th scope=col>&lt;chr&gt;</th><th scope=col>&lt;dbl&gt;</th><th scope=col>&lt;dbl&gt;</th><th scope=col>&lt;dbl&gt;</th><th scope=col>&lt;chr&gt;</th><th scope=col>&lt;chr&gt;</th><th scope=col>&lt;dbl&gt;</th><th scope=col>&lt;dbl&gt;</th><th scope=col>&lt;chr&gt;</th><th scope=col>&lt;chr&gt;</th><th scope=col>&lt;dbl&gt;</th><th scope=col>&lt;chr&gt;</th><th scope=col>&lt;dbl&gt;</th><th scope=col>&lt;dbl&gt;</th><th scope=col>&lt;chr&gt;</th><th scope=col>&lt;chr&gt;</th><th scope=col>&lt;chr&gt;</th></tr>\n",
       "</thead>\n",
       "<tbody>\n",
       "\t<tr><td>Female</td><td>21</td><td>1.62</td><td>64</td><td>yes</td><td>no</td><td>2</td><td>3</td><td>Sometimes</td><td>no </td><td>2</td><td>no </td><td>0</td><td>1</td><td>no        </td><td>Public_Transportation</td><td>Normal_Weight</td></tr>\n",
       "\t<tr><td>Female</td><td>21</td><td>1.52</td><td>56</td><td>yes</td><td>no</td><td>3</td><td>3</td><td>Sometimes</td><td>yes</td><td>3</td><td>yes</td><td>3</td><td>0</td><td>Sometimes </td><td>Public_Transportation</td><td>Normal_Weight</td></tr>\n",
       "\t<tr><td>Male  </td><td>23</td><td>1.80</td><td>77</td><td>yes</td><td>no</td><td>2</td><td>3</td><td>Sometimes</td><td>no </td><td>2</td><td>no </td><td>2</td><td>1</td><td>Frequently</td><td>Public_Transportation</td><td>Normal_Weight</td></tr>\n",
       "\t<tr><td>⋮</td><td>⋮</td><td>⋮</td><td>⋮</td><td>⋮</td><td>⋮</td><td>⋮</td><td>⋮</td><td>⋮</td><td>⋮</td><td>⋮</td><td>⋮</td><td>⋮</td><td>⋮</td><td>⋮</td><td>⋮</td><td>⋮</td></tr>\n",
       "\t<tr><td>Female</td><td>22.52404</td><td>1.752206</td><td>133.6894</td><td>yes</td><td>yes</td><td>3</td><td>3</td><td>Sometimes</td><td>no</td><td>2.054193</td><td>no</td><td>1.414209</td><td>0.646288</td><td>Sometimes</td><td>Public_Transportation</td><td>Obesity_Type_III</td></tr>\n",
       "\t<tr><td>Female</td><td>24.36194</td><td>1.739450</td><td>133.3466</td><td>yes</td><td>yes</td><td>3</td><td>3</td><td>Sometimes</td><td>no</td><td>2.852339</td><td>no</td><td>1.139107</td><td>0.586035</td><td>Sometimes</td><td>Public_Transportation</td><td>Obesity_Type_III</td></tr>\n",
       "\t<tr><td>Female</td><td>23.66471</td><td>1.738836</td><td>133.4726</td><td>yes</td><td>yes</td><td>3</td><td>3</td><td>Sometimes</td><td>no</td><td>2.863513</td><td>no</td><td>1.026452</td><td>0.714137</td><td>Sometimes</td><td>Public_Transportation</td><td>Obesity_Type_III</td></tr>\n",
       "</tbody>\n",
       "</table>\n"
      ],
      "text/latex": [
       "A spec\\_tbl\\_df: 2111 × 17\n",
       "\\begin{tabular}{lllllllllllllllll}\n",
       " Gender & Age & Height & Weight & family\\_history\\_with\\_overweight & FAVC & FCVC & NCP & CAEC & SMOKE & CH2O & SCC & FAF & TUE & CALC & MTRANS & NObeyesdad\\\\\n",
       " <chr> & <dbl> & <dbl> & <dbl> & <chr> & <chr> & <dbl> & <dbl> & <chr> & <chr> & <dbl> & <chr> & <dbl> & <dbl> & <chr> & <chr> & <chr>\\\\\n",
       "\\hline\n",
       "\t Female & 21 & 1.62 & 64 & yes & no & 2 & 3 & Sometimes & no  & 2 & no  & 0 & 1 & no         & Public\\_Transportation & Normal\\_Weight\\\\\n",
       "\t Female & 21 & 1.52 & 56 & yes & no & 3 & 3 & Sometimes & yes & 3 & yes & 3 & 0 & Sometimes  & Public\\_Transportation & Normal\\_Weight\\\\\n",
       "\t Male   & 23 & 1.80 & 77 & yes & no & 2 & 3 & Sometimes & no  & 2 & no  & 2 & 1 & Frequently & Public\\_Transportation & Normal\\_Weight\\\\\n",
       "\t ⋮ & ⋮ & ⋮ & ⋮ & ⋮ & ⋮ & ⋮ & ⋮ & ⋮ & ⋮ & ⋮ & ⋮ & ⋮ & ⋮ & ⋮ & ⋮ & ⋮\\\\\n",
       "\t Female & 22.52404 & 1.752206 & 133.6894 & yes & yes & 3 & 3 & Sometimes & no & 2.054193 & no & 1.414209 & 0.646288 & Sometimes & Public\\_Transportation & Obesity\\_Type\\_III\\\\\n",
       "\t Female & 24.36194 & 1.739450 & 133.3466 & yes & yes & 3 & 3 & Sometimes & no & 2.852339 & no & 1.139107 & 0.586035 & Sometimes & Public\\_Transportation & Obesity\\_Type\\_III\\\\\n",
       "\t Female & 23.66471 & 1.738836 & 133.4726 & yes & yes & 3 & 3 & Sometimes & no & 2.863513 & no & 1.026452 & 0.714137 & Sometimes & Public\\_Transportation & Obesity\\_Type\\_III\\\\\n",
       "\\end{tabular}\n"
      ],
      "text/markdown": [
       "\n",
       "A spec_tbl_df: 2111 × 17\n",
       "\n",
       "| Gender &lt;chr&gt; | Age &lt;dbl&gt; | Height &lt;dbl&gt; | Weight &lt;dbl&gt; | family_history_with_overweight &lt;chr&gt; | FAVC &lt;chr&gt; | FCVC &lt;dbl&gt; | NCP &lt;dbl&gt; | CAEC &lt;chr&gt; | SMOKE &lt;chr&gt; | CH2O &lt;dbl&gt; | SCC &lt;chr&gt; | FAF &lt;dbl&gt; | TUE &lt;dbl&gt; | CALC &lt;chr&gt; | MTRANS &lt;chr&gt; | NObeyesdad &lt;chr&gt; |\n",
       "|---|---|---|---|---|---|---|---|---|---|---|---|---|---|---|---|---|\n",
       "| Female | 21 | 1.62 | 64 | yes | no | 2 | 3 | Sometimes | no  | 2 | no  | 0 | 1 | no         | Public_Transportation | Normal_Weight |\n",
       "| Female | 21 | 1.52 | 56 | yes | no | 3 | 3 | Sometimes | yes | 3 | yes | 3 | 0 | Sometimes  | Public_Transportation | Normal_Weight |\n",
       "| Male   | 23 | 1.80 | 77 | yes | no | 2 | 3 | Sometimes | no  | 2 | no  | 2 | 1 | Frequently | Public_Transportation | Normal_Weight |\n",
       "| ⋮ | ⋮ | ⋮ | ⋮ | ⋮ | ⋮ | ⋮ | ⋮ | ⋮ | ⋮ | ⋮ | ⋮ | ⋮ | ⋮ | ⋮ | ⋮ | ⋮ |\n",
       "| Female | 22.52404 | 1.752206 | 133.6894 | yes | yes | 3 | 3 | Sometimes | no | 2.054193 | no | 1.414209 | 0.646288 | Sometimes | Public_Transportation | Obesity_Type_III |\n",
       "| Female | 24.36194 | 1.739450 | 133.3466 | yes | yes | 3 | 3 | Sometimes | no | 2.852339 | no | 1.139107 | 0.586035 | Sometimes | Public_Transportation | Obesity_Type_III |\n",
       "| Female | 23.66471 | 1.738836 | 133.4726 | yes | yes | 3 | 3 | Sometimes | no | 2.863513 | no | 1.026452 | 0.714137 | Sometimes | Public_Transportation | Obesity_Type_III |\n",
       "\n"
      ],
      "text/plain": [
       "     Gender Age      Height   Weight   family_history_with_overweight FAVC FCVC\n",
       "1    Female 21       1.62     64       yes                            no   2   \n",
       "2    Female 21       1.52     56       yes                            no   3   \n",
       "3    Male   23       1.80     77       yes                            no   2   \n",
       "⋮    ⋮      ⋮        ⋮        ⋮        ⋮                              ⋮    ⋮   \n",
       "2109 Female 22.52404 1.752206 133.6894 yes                            yes  3   \n",
       "2110 Female 24.36194 1.739450 133.3466 yes                            yes  3   \n",
       "2111 Female 23.66471 1.738836 133.4726 yes                            yes  3   \n",
       "     NCP CAEC      SMOKE CH2O     SCC FAF      TUE      CALC      \n",
       "1    3   Sometimes no    2        no  0        1        no        \n",
       "2    3   Sometimes yes   3        yes 3        0        Sometimes \n",
       "3    3   Sometimes no    2        no  2        1        Frequently\n",
       "⋮    ⋮   ⋮         ⋮     ⋮        ⋮   ⋮        ⋮        ⋮         \n",
       "2109 3   Sometimes no    2.054193 no  1.414209 0.646288 Sometimes \n",
       "2110 3   Sometimes no    2.852339 no  1.139107 0.586035 Sometimes \n",
       "2111 3   Sometimes no    2.863513 no  1.026452 0.714137 Sometimes \n",
       "     MTRANS                NObeyesdad      \n",
       "1    Public_Transportation Normal_Weight   \n",
       "2    Public_Transportation Normal_Weight   \n",
       "3    Public_Transportation Normal_Weight   \n",
       "⋮    ⋮                     ⋮               \n",
       "2109 Public_Transportation Obesity_Type_III\n",
       "2110 Public_Transportation Obesity_Type_III\n",
       "2111 Public_Transportation Obesity_Type_III"
      ]
     },
     "metadata": {},
     "output_type": "display_data"
    }
   ],
   "source": [
    "obesity <- read_csv(\"data/ObesityDataSet.csv\")\n",
    "obesity"
   ]
  },
  {
   "cell_type": "markdown",
   "metadata": {},
   "source": [
    "Summarize the data here"
   ]
  },
  {
   "cell_type": "code",
   "execution_count": 1,
   "metadata": {},
   "outputs": [],
   "source": [
    "# code here - Philip"
   ]
  },
  {
   "cell_type": "markdown",
   "metadata": {},
   "source": [
    "Visualize the data here"
   ]
  },
  {
   "cell_type": "code",
   "execution_count": 3,
   "metadata": {},
   "outputs": [],
   "source": [
    "# code here - Julian"
   ]
  },
  {
   "cell_type": "code",
   "execution_count": null,
   "metadata": {},
   "outputs": [],
   "source": []
  }
 ],
 "metadata": {
  "kernelspec": {
   "display_name": "R",
   "language": "R",
   "name": "ir"
  },
  "language_info": {
   "codemirror_mode": "r",
   "file_extension": ".r",
   "mimetype": "text/x-r-source",
   "name": "R",
   "pygments_lexer": "r",
   "version": "4.0.0"
  }
 },
 "nbformat": 4,
 "nbformat_minor": 4
}
